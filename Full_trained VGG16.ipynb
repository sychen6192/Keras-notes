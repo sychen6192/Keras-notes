{
 "cells": [
  {
   "cell_type": "code",
   "execution_count": 8,
   "metadata": {},
   "outputs": [
    {
     "name": "stdout",
     "output_type": "stream",
     "text": [
      "Model: \"sequential_3\"\n",
      "_________________________________________________________________\n",
      "Layer (type)                 Output Shape              Param #   \n",
      "=================================================================\n",
      "vgg16 (Model)                (None, 4, 4, 512)         14714688  \n",
      "_________________________________________________________________\n",
      "flatten_3 (Flatten)          (None, 8192)              0         \n",
      "_________________________________________________________________\n",
      "dense_5 (Dense)              (None, 256)               2097408   \n",
      "_________________________________________________________________\n",
      "dense_6 (Dense)              (None, 1)                 257       \n",
      "=================================================================\n",
      "Total params: 16,812,353\n",
      "Trainable params: 16,812,353\n",
      "Non-trainable params: 0\n",
      "_________________________________________________________________\n"
     ]
    }
   ],
   "source": [
    "from keras import models\n",
    "from keras import layers\n",
    "from keras.applications import VGG16\n",
    "\n",
    "conv_base = VGG16(weights='imagenet', include_top=False, input_shape=(150, 150, 3))\n",
    "\n",
    "model = models.Sequential()\n",
    "model.add(conv_base)\n",
    "model.add(layers.Flatten())\n",
    "model.add(layers.Dense(256, activation='relu'))\n",
    "model.add(layers.Dense(1, activation='sigmoid'))\n",
    "model.summary()"
   ]
  },
  {
   "cell_type": "markdown",
   "metadata": {},
   "source": [
    "#### 要凍結基底，不然訓練的時候銓重會被更新掉"
   ]
  },
  {
   "cell_type": "code",
   "execution_count": 9,
   "metadata": {},
   "outputs": [
    {
     "data": {
      "text/plain": [
       "30"
      ]
     },
     "execution_count": 9,
     "metadata": {},
     "output_type": "execute_result"
    }
   ],
   "source": [
    "len(model.trainable_weights)"
   ]
  },
  {
   "cell_type": "code",
   "execution_count": 10,
   "metadata": {},
   "outputs": [
    {
     "data": {
      "text/plain": [
       "4"
      ]
     },
     "execution_count": 10,
     "metadata": {},
     "output_type": "execute_result"
    }
   ],
   "source": [
    "conv_base.trainable = False\n",
    "len(model.trainable_weights)"
   ]
  },
  {
   "cell_type": "code",
   "execution_count": 14,
   "metadata": {},
   "outputs": [],
   "source": [
    "import os\n",
    "import numpy as np\n",
    "base_dir = r\"/home/iebi/WorkDir/Shao/data/cats_and_dogs_small\"\n",
    "\n",
    "train_dir = os.path.join(base_dir, \"train\")\n",
    "validation_dir = os.path.join(base_dir, \"validation\")\n",
    "test_dir = os.path.join(base_dir, \"test\")"
   ]
  },
  {
   "cell_type": "code",
   "execution_count": 16,
   "metadata": {},
   "outputs": [
    {
     "name": "stdout",
     "output_type": "stream",
     "text": [
      "Found 2000 images belonging to 2 classes.\n",
      "Found 1000 images belonging to 2 classes.\n",
      "Epoch 1/30\n",
      "100/100 [==============================] - 17s 174ms/step - loss: 0.6032 - accuracy: 0.6810 - val_loss: 0.4173 - val_accuracy: 0.8340\n",
      "Epoch 2/30\n",
      "100/100 [==============================] - 11s 110ms/step - loss: 0.4865 - accuracy: 0.7810 - val_loss: 0.3070 - val_accuracy: 0.8530\n",
      "Epoch 3/30\n",
      "100/100 [==============================] - 11s 110ms/step - loss: 0.4360 - accuracy: 0.8130 - val_loss: 0.2327 - val_accuracy: 0.8600\n",
      "Epoch 4/30\n",
      "100/100 [==============================] - 11s 111ms/step - loss: 0.4018 - accuracy: 0.8245 - val_loss: 0.4196 - val_accuracy: 0.8730\n",
      "Epoch 5/30\n",
      "100/100 [==============================] - 11s 110ms/step - loss: 0.3894 - accuracy: 0.8305 - val_loss: 0.2047 - val_accuracy: 0.8830\n",
      "Epoch 6/30\n",
      "100/100 [==============================] - 11s 110ms/step - loss: 0.3772 - accuracy: 0.8355 - val_loss: 0.3066 - val_accuracy: 0.8850\n",
      "Epoch 7/30\n",
      "100/100 [==============================] - 11s 110ms/step - loss: 0.3619 - accuracy: 0.8440 - val_loss: 0.2822 - val_accuracy: 0.8900\n",
      "Epoch 8/30\n",
      "100/100 [==============================] - 11s 111ms/step - loss: 0.3581 - accuracy: 0.8445 - val_loss: 0.3090 - val_accuracy: 0.8790\n",
      "Epoch 9/30\n",
      "100/100 [==============================] - 11s 110ms/step - loss: 0.3349 - accuracy: 0.8540 - val_loss: 0.4524 - val_accuracy: 0.8790\n",
      "Epoch 10/30\n",
      "100/100 [==============================] - 11s 110ms/step - loss: 0.3383 - accuracy: 0.8500 - val_loss: 0.1909 - val_accuracy: 0.8900\n",
      "Epoch 11/30\n",
      "100/100 [==============================] - 11s 111ms/step - loss: 0.3267 - accuracy: 0.8535 - val_loss: 0.2059 - val_accuracy: 0.8940\n",
      "Epoch 12/30\n",
      "100/100 [==============================] - 11s 110ms/step - loss: 0.3198 - accuracy: 0.8585 - val_loss: 0.1190 - val_accuracy: 0.8920\n",
      "Epoch 13/30\n",
      "100/100 [==============================] - 11s 111ms/step - loss: 0.3224 - accuracy: 0.8620 - val_loss: 0.2970 - val_accuracy: 0.8970\n",
      "Epoch 14/30\n",
      "100/100 [==============================] - 11s 111ms/step - loss: 0.3178 - accuracy: 0.8620 - val_loss: 0.3155 - val_accuracy: 0.8940\n",
      "Epoch 15/30\n",
      "100/100 [==============================] - 11s 110ms/step - loss: 0.3179 - accuracy: 0.8640 - val_loss: 0.3012 - val_accuracy: 0.8980\n",
      "Epoch 16/30\n",
      "100/100 [==============================] - 11s 110ms/step - loss: 0.3085 - accuracy: 0.8650 - val_loss: 0.3118 - val_accuracy: 0.8950\n",
      "Epoch 17/30\n",
      "100/100 [==============================] - 11s 110ms/step - loss: 0.3116 - accuracy: 0.8660 - val_loss: 0.2489 - val_accuracy: 0.8930\n",
      "Epoch 18/30\n",
      "100/100 [==============================] - 11s 111ms/step - loss: 0.3162 - accuracy: 0.8540 - val_loss: 0.2661 - val_accuracy: 0.8960\n",
      "Epoch 19/30\n",
      "100/100 [==============================] - 11s 111ms/step - loss: 0.3108 - accuracy: 0.8615 - val_loss: 0.3642 - val_accuracy: 0.8950\n",
      "Epoch 20/30\n",
      "100/100 [==============================] - 11s 111ms/step - loss: 0.2977 - accuracy: 0.8720 - val_loss: 0.3820 - val_accuracy: 0.8920\n",
      "Epoch 21/30\n",
      "100/100 [==============================] - 11s 110ms/step - loss: 0.2971 - accuracy: 0.8695 - val_loss: 0.0924 - val_accuracy: 0.9000\n",
      "Epoch 22/30\n",
      "100/100 [==============================] - 11s 110ms/step - loss: 0.2953 - accuracy: 0.8695 - val_loss: 0.3645 - val_accuracy: 0.9010\n",
      "Epoch 23/30\n",
      "100/100 [==============================] - 11s 111ms/step - loss: 0.2903 - accuracy: 0.8715 - val_loss: 0.1237 - val_accuracy: 0.8910\n",
      "Epoch 24/30\n",
      "100/100 [==============================] - 11s 111ms/step - loss: 0.2929 - accuracy: 0.8800 - val_loss: 0.3193 - val_accuracy: 0.8980\n",
      "Epoch 25/30\n",
      "100/100 [==============================] - 11s 110ms/step - loss: 0.2909 - accuracy: 0.8705 - val_loss: 0.3245 - val_accuracy: 0.8960\n",
      "Epoch 26/30\n",
      "100/100 [==============================] - 11s 111ms/step - loss: 0.2725 - accuracy: 0.8790 - val_loss: 0.3222 - val_accuracy: 0.9000\n",
      "Epoch 27/30\n",
      "100/100 [==============================] - 11s 110ms/step - loss: 0.2851 - accuracy: 0.8750 - val_loss: 0.1472 - val_accuracy: 0.8980\n",
      "Epoch 28/30\n",
      "100/100 [==============================] - 11s 110ms/step - loss: 0.2782 - accuracy: 0.8805 - val_loss: 0.3243 - val_accuracy: 0.8990\n",
      "Epoch 29/30\n",
      "100/100 [==============================] - 11s 111ms/step - loss: 0.2950 - accuracy: 0.8780 - val_loss: 0.2200 - val_accuracy: 0.9020\n",
      "Epoch 30/30\n",
      "100/100 [==============================] - 11s 110ms/step - loss: 0.2790 - accuracy: 0.8705 - val_loss: 0.1724 - val_accuracy: 0.8990\n"
     ]
    }
   ],
   "source": [
    "from keras.preprocessing.image import ImageDataGenerator\n",
    "from keras import optimizers\n",
    "\n",
    "train_datagen = ImageDataGenerator(\n",
    "    rescale=1./255,\n",
    "    rotation_range=40,\n",
    "    width_shift_range=.2,\n",
    "    height_shift_range=.2,\n",
    "    shear_range=.2,\n",
    "    zoom_range=.2,\n",
    "    horizontal_flip=True,\n",
    "    fill_mode=\"nearest\")\n",
    "\n",
    "test_datagen = ImageDataGenerator(rescale=1./255)\n",
    "\n",
    "train_generator = train_datagen.flow_from_directory(\n",
    "    train_dir,\n",
    "    target_size=(150, 150),\n",
    "    batch_size=20,\n",
    "    class_mode=\"binary\")\n",
    "\n",
    "validation_generator = test_datagen.flow_from_directory(\n",
    "    validation_dir,\n",
    "    target_size=(150, 150),\n",
    "    batch_size=20,\n",
    "    class_mode=\"binary\")\n",
    "\n",
    "model.compile(loss=\"binary_crossentropy\", optimizer=optimizers.RMSprop(lr=2e-5), metrics=[\"accuracy\"])\n",
    "history = model.fit_generator(\n",
    "    train_generator,\n",
    "    steps_per_epoch=100,\n",
    "    epochs=30,\n",
    "    validation_data = validation_generator,\n",
    "    validation_steps=50)"
   ]
  },
  {
   "cell_type": "code",
   "execution_count": 17,
   "metadata": {},
   "outputs": [
    {
     "data": {
      "image/png": "[encoded data removed]",
      "text/plain": [
       "<Figure size 432x288 with 1 Axes>"
      ]
     },
     "metadata": {
      "needs_background": "light"
     },
     "output_type": "display_data"
    },
    {
     "data": {
      "image/png": "[encoded data removed]",
      "text/plain": [
       "<Figure size 432x288 with 1 Axes>"
      ]
     },
     "metadata": {
      "needs_background": "light"
     },
     "output_type": "display_data"
    }
   ],
   "source": [
    "import matplotlib.pyplot as plt\n",
    "\n",
    "acc = history.history[\"accuracy\"]\n",
    "val_acc = history.history[\"val_accuracy\"]\n",
    "loss = history.history[\"loss\"]\n",
    "val_loss = history.history[\"val_loss\"]\n",
    "\n",
    "epochs = range(1, len(acc) + 1)\n",
    "\n",
    "plt.plot(epochs, acc, \"bo\", label=\"training accuracy\")\n",
    "plt.plot(epochs, val_acc, \"b\", label=\"Validation accuracy\")\n",
    "plt.title(\"Training and validation accuracy\")\n",
    "plt.legend()\n",
    "\n",
    "plt.figure()\n",
    "plt.plot(epochs, loss, \"bo\", label=\"training loss\")\n",
    "plt.plot(epochs, val_loss, 'b', label=\"Validation loss\")\n",
    "plt.title(\"Training and validation loss\")\n",
    "plt.legend()\n",
    "\n",
    "plt.show()"
   ]
  }
 ],
 "metadata": {
  "kernelspec": {
   "display_name": "Python3 (iebi-gpu)",
   "language": "python",
   "name": "iebi-gpu"
  },
  "language_info": {
   "codemirror_mode": {
    "name": "ipython",
    "version": 3
   },
   "file_extension": ".py",
   "mimetype": "text/x-python",
   "name": "python",
   "nbconvert_exporter": "python",
   "pygments_lexer": "ipython3",
   "version": "3.7.5"
  }
 },
 "nbformat": 4,
 "nbformat_minor": 2
}
